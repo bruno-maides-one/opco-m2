{
 "cells": [
  {
   "metadata": {},
   "cell_type": "markdown",
   "source": [
    "# M2 -Brief 1 - Préoccupation éthique et réglementaire\n",
    "\n"
   ],
   "id": "8115559970a4be28"
  },
  {
   "cell_type": "code",
   "id": "aacedb08749346c8",
   "metadata": {},
   "source": [
    "import pandas as pd\n",
    "import missingno as msno\n",
    "import seaborn as sns\n",
    "import matplotlib.pyplot as plt"
   ],
   "outputs": [],
   "execution_count": null
  },
  {
   "cell_type": "markdown",
   "id": "842b90683e37b29b",
   "metadata": {},
   "source": [
    "## Chargement des données et données brutes"
   ]
  },
  {
   "cell_type": "code",
   "id": "8b9816ed13f1065d",
   "metadata": {},
   "source": [
    "df = pd.read_csv('data/data-all-68482f115ac04033078508.csv')\n",
    "df.head()"
   ],
   "outputs": [],
   "execution_count": null
  },
  {
   "cell_type": "markdown",
   "id": "702cb7a3b1742afd",
   "metadata": {},
   "source": [
    "# Analyse rapide"
   ]
  },
  {
   "cell_type": "markdown",
   "id": "396b713e5188dbc",
   "metadata": {},
   "source": [
    "On commence par virer les éventuels doublons."
   ]
  },
  {
   "cell_type": "code",
   "id": "8b526219bb057cd4",
   "metadata": {},
   "source": [
    "print(\"Taille avant\", len(df))\n",
    "df = df.drop_duplicates()\n",
    "print(\"Taille apres\", len(df))"
   ],
   "outputs": [],
   "execution_count": null
  },
  {
   "cell_type": "markdown",
   "id": "94430a803aaebf6",
   "metadata": {},
   "source": [
    "Pas de doublons\n",
    "\n",
    "---\n",
    "\n",
    "Infos sur le dataset brute"
   ]
  },
  {
   "cell_type": "code",
   "id": "2fd4d92e0563a2fe",
   "metadata": {},
   "source": [
    "df.info()"
   ],
   "outputs": [],
   "execution_count": null
  },
  {
   "cell_type": "code",
   "id": "ad3733a49beb80c6",
   "metadata": {},
   "source": [
    "df.describe()"
   ],
   "outputs": [],
   "execution_count": null
  },
  {
   "cell_type": "markdown",
   "id": "751c01510b7eff13",
   "metadata": {},
   "source": [
    "Il semble y avoir une valeur incohérente pour le loyer_mensuel qui est negative, on extrait les données avec des loyer négatif pour analyse"
   ]
  },
  {
   "cell_type": "code",
   "id": "1998f9ee52d45723",
   "metadata": {},
   "source": [
    "loyer_negatif = df[df['loyer_mensuel'] < 0]\n",
    "loyer_negatif.describe()"
   ],
   "outputs": [],
   "execution_count": null
  },
  {
   "cell_type": "code",
   "id": "2bebb18f522bcffc",
   "metadata": {},
   "source": [
    "loyer_negatif"
   ],
   "outputs": [],
   "execution_count": null
  },
  {
   "cell_type": "markdown",
   "id": "9edbb921-1a99-4119-af60-ea811d8d3b9e",
   "metadata": {},
   "source": [
    "On verra plus tard ce qu'on fait de ces valeurs négatives, suppression des lignes ou les ramené a une valeurs valide."
   ]
  },
  {
   "cell_type": "markdown",
   "id": "73bfde4cf7825b7a",
   "metadata": {},
   "source": [
    "En première analyse on peux voir que 4 colonnes ont des données manquantes :\n",
    "* situation_familliale\n",
    "* historique_credit\n",
    "* score_credit\n",
    "* loyer_mensuel\n",
    "\n",
    "On fait un rendu graphique pour avoir une confirmation visuelle\n"
   ]
  },
  {
   "cell_type": "code",
   "id": "35e16c1d424953fa",
   "metadata": {},
   "source": [
    "msno.matrix(df, 'data', figsize=(10,5))"
   ],
   "outputs": [],
   "execution_count": null
  },
  {
   "cell_type": "markdown",
   "id": "3a97df6ce1c04e84",
   "metadata": {},
   "source": [
    "## Statistique sur les valeurs vides\n",
    "\n",
    "Pourcentage de valeur vide pour les colonnes\n"
   ]
  },
  {
   "cell_type": "code",
   "id": "bf85dc1fcedd416b",
   "metadata": {},
   "source": [
    "total_rows = df[\"montant_pret\"].count()\n",
    "print(\"Total rows\", total_rows)\n",
    "historique_credits_rows = df[\"historique_credits\"].count()\n",
    "print(\"Taille credits:\", historique_credits_rows)\n",
    "situation_familiale_rows = df[\"situation_familiale\"].count()\n",
    "print(\"Taille familiale:\", situation_familiale_rows)\n",
    "score_credit_rows = df[\"score_credit\"].count()\n",
    "print(\"Taille credit:\", score_credit_rows)\n",
    "loyer_mensuel_rows = df[\"loyer_mensuel\"].count()\n",
    "print(\"Taille mensuel:\", loyer_mensuel_rows)\n",
    "historique_credits_pc_vide = 1 - historique_credits_rows/total_rows\n",
    "print(\"Pourcent historique_credits:\", historique_credits_pc_vide)\n",
    "situation_familiale_pc_vide = 1 - situation_familiale_rows/total_rows\n",
    "print(\"Pourcent situation_familiale:\", situation_familiale_pc_vide)\n",
    "score_credit_pc_vide = 1 - score_credit_rows/total_rows\n",
    "print(\"Pourcent score_credit:\", score_credit_pc_vide)\n",
    "loyer_mensuel_pc_vide = 1 - loyer_mensuel_rows/total_rows\n",
    "print(\"Pourcent loyer_mensuel:\", loyer_mensuel_pc_vide)\n",
    "\n",
    "print(f\"Historique credits: {historique_credits_pc_vide:.4f}\")\n",
    "\n",
    "pc_vide = pd.DataFrame({\n",
    "    \"historique_credits\": [historique_credits_pc_vide],\n",
    "    \"situation_familiale\": [situation_familiale_pc_vide],\n",
    "    \"score_credit\": [score_credit_pc_vide],\n",
    "    \"loyer_mensuel\": [loyer_mensuel_pc_vide],\n",
    "})\n",
    "print(\"% de lignes vide\")\n",
    "print(pc_vide)\n",
    "pc_vide.head()\n"
   ],
   "outputs": [],
   "execution_count": null
  },
  {
   "cell_type": "markdown",
   "id": "d9b9a872c2b57f93",
   "metadata": {},
   "source": [
    "Utilisation de seaborn pour une analyse plus approfondie\n",
    "\n",
    "On commence par voir si il y'a une correlation entre les valeurs vide"
   ]
  },
  {
   "cell_type": "code",
   "id": "27d8f2cadd8b654d",
   "metadata": {},
   "source": [
    "msno.heatmap(df, figsize=(8,4))"
   ],
   "outputs": [],
   "execution_count": null
  },
  {
   "cell_type": "markdown",
   "id": "b8ef923f42db1eeb",
   "metadata": {},
   "source": [
    "Il n'y a pas de correlation de présence ou d'absence entre les données vides, elle sont donc indépendante."
   ]
  },
  {
   "cell_type": "markdown",
   "id": "5730990b6c5f1a07",
   "metadata": {},
   "source": [
    "## Recherche de données correlées"
   ]
  },
  {
   "cell_type": "markdown",
   "id": "1c8d390f-6908-4060-abd4-9f315ed00165",
   "metadata": {},
   "source": [
    "### Sexe"
   ]
  },
  {
   "cell_type": "markdown",
   "id": "c7e08e0c-c6c6-4351-ba2e-9ec6938ddec6",
   "metadata": {},
   "source": []
  },
  {
   "cell_type": "code",
   "id": "bb4dfdbf63654910",
   "metadata": {},
   "source": [
    "# Sexe\n",
    "sns.pairplot(df, hue=\"sexe\", diag_kind=\"kde\")"
   ],
   "outputs": [],
   "execution_count": null
  },
  {
   "cell_type": "markdown",
   "id": "0baca92e-7d0f-4d0f-b241-8ff670220ea4",
   "metadata": {},
   "source": [
    "### Age"
   ]
  },
  {
   "cell_type": "code",
   "id": "13d94ac1ee270cc1",
   "metadata": {},
   "source": [
    "sns.pairplot(df, hue=\"age\", diag_kind=\"kde\")"
   ],
   "outputs": [],
   "execution_count": null
  },
  {
   "cell_type": "markdown",
   "id": "8c68c1d98cf01aea",
   "metadata": {},
   "source": [
    "Il semble yu avoir une correlation entre l'age et pas mal de valeurs, celles qui peuvent nous interesser sont :\n",
    "* montant_pret\n",
    "* loyer_mensuel\n",
    "* score_credit\n",
    "* risque_personnel\n",
    "* historique_credit\n",
    "* revenu_estime_mois\n",
    "\n",
    "Même si une correlation semble exister entre l'age et le poids, nous ne nous interesseonrs pas à cette valeur."
   ]
  },
  {
   "metadata": {},
   "cell_type": "markdown",
   "source": "### Poids",
   "id": "d72e64c6360aaeea"
  },
  {
   "metadata": {},
   "cell_type": "code",
   "source": "sns.pairplot(df, hue=\"poids\")",
   "id": "3597b04945433922",
   "outputs": [],
   "execution_count": null
  },
  {
   "cell_type": "markdown",
   "id": "9bb8c7a8-4c3c-4086-81ab-d0caf27d84cc",
   "metadata": {},
   "source": [
    "### Smoker"
   ]
  },
  {
   "cell_type": "code",
   "id": "5128d253f59475cd",
   "metadata": {},
   "source": [
    "# smoker\n",
    "sns.pairplot(df, hue=\"smoker\", diag_kind=\"kde\")"
   ],
   "outputs": [],
   "execution_count": null
  },
  {
   "cell_type": "markdown",
   "id": "516289ea-e5dc-4593-bfec-1102ceaae53c",
   "metadata": {},
   "source": [
    "### sport_licence"
   ]
  },
  {
   "cell_type": "code",
   "id": "5dfd31f6360c478",
   "metadata": {},
   "source": [
    "sns.pairplot(df, hue=\"sport_licence\")"
   ],
   "outputs": [],
   "execution_count": null
  },
  {
   "metadata": {},
   "cell_type": "markdown",
   "source": "### Region",
   "id": "229dd5280dcaad66"
  },
  {
   "metadata": {},
   "cell_type": "code",
   "source": "sns.pairplot(df, hue=\"region\", diag_kind=\"kde\")",
   "id": "643ef7eb13e98183",
   "outputs": [],
   "execution_count": null
  },
  {
   "metadata": {},
   "cell_type": "markdown",
   "source": [
    "## Manipulation des données pour poursuivre l'investigation\n",
    "\n",
    "### Le cas du niveau d'étude\n",
    "\n",
    "Les valeurs distincts du niveau d'étude"
   ],
   "id": "7bf6657a74d60896"
  },
  {
   "metadata": {},
   "cell_type": "code",
   "source": [
    "df = pd.read_csv('data/data-all-68482f115ac04033078508.csv')\n",
    "df[\"niveau_etude\"].unique()\n",
    "df"
   ],
   "id": "3fc63f9ce735b297",
   "outputs": [],
   "execution_count": null
  },
  {
   "metadata": {},
   "cell_type": "markdown",
   "source": "Mappage avec des valeurs numériques",
   "id": "3b2d885a47c05d30"
  },
  {
   "metadata": {},
   "cell_type": "code",
   "source": [
    "df['niveau_etude'] = df['niveau_etude'].map({\n",
    "    'aucun': 0,\n",
    "    'bac': 1,\n",
    "    'bac+2': 2,\n",
    "    'master': 3,\n",
    "    'doctorat': 4,\n",
    "})\n",
    "df"
   ],
   "id": "620d68d667b762c2",
   "outputs": [],
   "execution_count": null
  },
  {
   "metadata": {},
   "cell_type": "markdown",
   "source": "On va maintenant vérifier les éventuelles correlation.",
   "id": "e02cdd385022f114"
  },
  {
   "metadata": {},
   "cell_type": "code",
   "source": "sns.pairplot(df, hue=\"niveau_etude\", diag_kind=\"kde\")",
   "id": "4564fac640c49f9c",
   "outputs": [],
   "execution_count": null
  },
  {
   "metadata": {},
   "cell_type": "markdown",
   "source": "## Construction du dataset final",
   "id": "cf618efc59782097"
  },
  {
   "metadata": {},
   "cell_type": "code",
   "source": "df = df.drop(axis='columns', columns=['niveau_etude', 'nom', 'prenom', 'sexe', 'taille', 'niveau_etude', 'nationalité_francaise', 'date_creation_compte', ])",
   "id": "48ec3393e97f602",
   "outputs": [],
   "execution_count": null
  },
  {
   "metadata": {},
   "cell_type": "markdown",
   "source": "## Experimentation libre",
   "id": "70eea255adf824e"
  },
  {
   "cell_type": "code",
   "id": "b9522d477f164512",
   "metadata": {},
   "source": [
    "sns.pairplot(df, hue=\"sexe\", diag_kind=\"kde\", vars=[\"montant_pret\", \"loyer_mensuel\", \"poids\", \"risque_personnel\", \"score_credit\"])"
   ],
   "outputs": [],
   "execution_count": null
  },
  {
   "cell_type": "code",
   "id": "2a1714ebf1160fda",
   "metadata": {},
   "source": [
    "g = sns.PairGrid(df, hue=\"sexe\", vars=[\"montant_pret\", \"loyer_mensuel\", \"poids\", \"risque_personnel\"])\n",
    "g.map_diag(sns.histplot)\n",
    "g.map_offdiag(sns.scatterplot)"
   ],
   "outputs": [],
   "execution_count": null
  },
  {
   "cell_type": "code",
   "id": "d5e926eef19c5193",
   "metadata": {},
   "source": [
    "sns.scatterplot(data=df, x=\"score_credit\", y=\"montant_pret\", hue=\"revenu_estime_mois\")"
   ],
   "outputs": [],
   "execution_count": null
  },
  {
   "cell_type": "code",
   "id": "2ae436946c311fbb",
   "metadata": {},
   "source": [
    "sns.scatterplot(data=df, x=\"revenu_estime_mois\", y=\"montant_pret\", hue=\"sexe\")"
   ],
   "outputs": [],
   "execution_count": null
  },
  {
   "cell_type": "code",
   "id": "c833ebc92fe1baca",
   "metadata": {},
   "source": [
    "sns.relplot(data=df, x=\"sexe\", y=\"montant_pret\")"
   ],
   "outputs": [],
   "execution_count": null
  },
  {
   "cell_type": "code",
   "id": "530535257e24c12",
   "metadata": {},
   "source": [
    "df.groupby('sexe')[\"montant_pret\"].mean()\n",
    "df.groupby('sexe')[\"montant_pret\"].size()\n"
   ],
   "outputs": [],
   "execution_count": null
  },
  {
   "cell_type": "code",
   "id": "82b4cfc71ca30812",
   "metadata": {},
   "source": [
    "sns.boxplot(y=df['montant_pret'], x=df['sexe'])\n",
    "plt.show()"
   ],
   "outputs": [],
   "execution_count": null
  },
  {
   "cell_type": "code",
   "id": "677928c8ef85308f",
   "metadata": {},
   "source": [
    "sns.boxplot(x=df['score_credit'], y=df['sexe'])\n",
    "plt.show()"
   ],
   "outputs": [],
   "execution_count": null
  },
  {
   "cell_type": "markdown",
   "id": "75886f959e770199",
   "metadata": {},
   "source": []
  },
  {
   "cell_type": "markdown",
   "id": "35229d858b7fc17d",
   "metadata": {},
   "source": [
    "### Cas du loyer\n",
    "\n"
   ]
  },
  {
   "cell_type": "code",
   "id": "d749315068cccdc2",
   "metadata": {},
   "source": [],
   "outputs": [],
   "execution_count": null
  },
  {
   "metadata": {},
   "cell_type": "markdown",
   "source": "# Tests\n",
   "id": "f3b696c23618180d"
  },
  {
   "metadata": {},
   "cell_type": "code",
   "source": [
    "print(df.shape)\n",
    "threshold = int(df.shape[1]*0.9)\n",
    "print(threshold)\n",
    "df_na = df.dropna(thresh=threshold)\n",
    "print(df_na['nom'].count())\n",
    "print(df['nom'].count())\n",
    "msno.matrix(df_na, 'data', figsize=(10,5))"
   ],
   "id": "495fd428914e1249",
   "outputs": [],
   "execution_count": null
  },
  {
   "metadata": {},
   "cell_type": "code",
   "source": "!pip install scikit-learn",
   "id": "8fd0c4d8f0cab538",
   "outputs": [],
   "execution_count": null
  },
  {
   "metadata": {},
   "cell_type": "code",
   "source": "from sklearn.impute import KNNImputer\n",
   "id": "c5300e9474d7b182",
   "outputs": [],
   "execution_count": null
  },
  {
   "metadata": {},
   "cell_type": "code",
   "source": [
    "imputer = KNNImputer(n_neighbors=5)\n",
    "imputer.fit_transform(df_na)"
   ],
   "id": "a5eb415715afc9",
   "outputs": [],
   "execution_count": null
  },
  {
   "metadata": {},
   "cell_type": "code",
   "source": "",
   "id": "5c47a566ce04814a",
   "outputs": [],
   "execution_count": null
  }
 ],
 "metadata": {
  "kernelspec": {
   "display_name": "Python 3 (ipykernel)",
   "language": "python",
   "name": "python3"
  },
  "language_info": {
   "codemirror_mode": {
    "name": "ipython",
    "version": 3
   },
   "file_extension": ".py",
   "mimetype": "text/x-python",
   "name": "python",
   "nbconvert_exporter": "python",
   "pygments_lexer": "ipython3",
   "version": "3.11.13"
  }
 },
 "nbformat": 4,
 "nbformat_minor": 5
}
